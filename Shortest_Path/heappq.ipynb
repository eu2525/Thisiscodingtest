{
 "cells": [
  {
   "cell_type": "code",
   "execution_count": 1,
   "metadata": {},
   "outputs": [],
   "source": [
    "import heapq"
   ]
  },
  {
   "cell_type": "markdown",
   "metadata": {},
   "source": [
    "heapq : 이진 트리 구조 <br>\n",
    "항상 자식 원소들(2k+1, 2k+2) 보다 작거나 같은 최소 힙의 형태로 정렬"
   ]
  },
  {
   "cell_type": "code",
   "execution_count": 7,
   "metadata": {},
   "outputs": [
    {
     "name": "stdout",
     "output_type": "stream",
     "text": [
      "[10, 50, 20, 100, 60, 40]\n"
     ]
    }
   ],
   "source": [
    "#heapq 모듈은 리스트를 최소 힙처럼 다룰 수 있도록 하기 때문에, \n",
    "#빈 리스트를 생성한 후 heapq의 함수를 호출할 때마다 리스트를 인자에 넘겨야 한다.\n",
    "heap = []\n",
    "heapq.heappush(heap, 50)\n",
    "heapq.heappush(heap, 10)\n",
    "heapq.heappush(heap, 20)\n",
    "heapq.heappush(heap, 100)\n",
    "heapq.heappush(heap, 60)\n",
    "heapq.heappush(heap, 40)\n",
    "print(heap)"
   ]
  },
  {
   "cell_type": "code",
   "execution_count": 8,
   "metadata": {},
   "outputs": [
    {
     "name": "stdout",
     "output_type": "stream",
     "text": [
      "10\n",
      "20\n",
      "40\n",
      "50\n",
      "60\n",
      "100\n"
     ]
    }
   ],
   "source": [
    "while heap:\n",
    "    num = heapq.heappop(heap)\n",
    "    print(num)"
   ]
  },
  {
   "cell_type": "markdown",
   "metadata": {},
   "source": [
    "### max_heap 만들기"
   ]
  },
  {
   "cell_type": "code",
   "execution_count": 19,
   "metadata": {},
   "outputs": [
    {
     "name": "stdout",
     "output_type": "stream",
     "text": [
      "[(-9, 9), (-7, 7), (-3, 3), (-1, 1), (-5, 5)]\n"
     ]
    }
   ],
   "source": [
    "heap_items = [1,3,5,7,9]\n",
    "\n",
    "max_heap = []\n",
    "for item in heap_items:\n",
    "  heapq.heappush(max_heap, (-item, item))\n",
    "\n",
    "print(max_heap)"
   ]
  },
  {
   "cell_type": "code",
   "execution_count": 20,
   "metadata": {},
   "outputs": [
    {
     "name": "stdout",
     "output_type": "stream",
     "text": [
      "(-9, 9)\n",
      "9\n"
     ]
    }
   ],
   "source": [
    "max_item = heapq.heappop(max_heap)\n",
    "print(max_item)\n",
    "print(max_item[1])"
   ]
  }
 ],
 "metadata": {
  "kernelspec": {
   "display_name": "base",
   "language": "python",
   "name": "python3"
  },
  "language_info": {
   "codemirror_mode": {
    "name": "ipython",
    "version": 3
   },
   "file_extension": ".py",
   "mimetype": "text/x-python",
   "name": "python",
   "nbconvert_exporter": "python",
   "pygments_lexer": "ipython3",
   "version": "3.9.13"
  }
 },
 "nbformat": 4,
 "nbformat_minor": 2
}
